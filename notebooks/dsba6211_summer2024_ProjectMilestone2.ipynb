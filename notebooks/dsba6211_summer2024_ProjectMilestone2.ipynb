{
  "nbformat": 4,
  "nbformat_minor": 0,
  "metadata": {
    "colab": {
      "provenance": [],
      "authorship_tag": "ABX9TyO3aF6Th0b3r+Ssdvn3onMv",
      "include_colab_link": true
    },
    "kernelspec": {
      "name": "python3",
      "display_name": "Python 3"
    },
    "language_info": {
      "name": "python"
    }
  },
  "cells": [
    {
      "cell_type": "markdown",
      "metadata": {
        "id": "view-in-github",
        "colab_type": "text"
      },
      "source": [
        "<a href=\"https://colab.research.google.com/github/neal-logan/dsba6211-summer2024/blob/main/notebooks/dsba6211_summer2024_ProjectMilestone2.ipynb\" target=\"_parent\"><img src=\"https://colab.research.google.com/assets/colab-badge.svg\" alt=\"Open In Colab\"/></a>"
      ]
    },
    {
      "cell_type": "markdown",
      "source": [
        "#Project Milestone 2\n",
        "\n",
        "DSBA 6211 - Summer 2024\n",
        "\n",
        "Neal Logan"
      ],
      "metadata": {
        "id": "uISl5Ss3cLsG"
      }
    },
    {
      "cell_type": "markdown",
      "source": [
        "## Introduction\n",
        "\n",
        "Introduction and Project Outline:\n",
        "\n",
        "State your project objective and the chosen dataset.\n",
        "Describe the specific problem you aim to solve or the question you intend to answer.\n",
        "Consider and discuss the business application of your project. How could the results of your analysis or model be used in a business context? What potential impact could it have?"
      ],
      "metadata": {
        "id": "OQTrqXFdcj6e"
      }
    },
    {
      "cell_type": "markdown",
      "source": [
        "##Literature Review\n",
        "\n",
        "Find at least two online resources such as blog posts or tutorials that provide a code-implemented project related to your topic. Summarize the key points and explain how they are relevant to your work. Note that the resources should generally not be academic articles unless they include code.[link text](https://)"
      ],
      "metadata": {
        "id": "5q-9JgQ_crP2"
      }
    },
    {
      "cell_type": "markdown",
      "source": [
        "##Data Preparation\n",
        "\n",
        "Detail the steps taken to clean and preprocess your data.\n",
        "Include any transformations, feature engineering, or handling of missing values."
      ],
      "metadata": {
        "id": "fhZHQRWCcrK6"
      }
    },
    {
      "cell_type": "markdown",
      "source": [
        "##Methodology\n",
        "\n",
        "Outline the methods and models you plan to use.\n",
        "This should include:\n",
        "For predictive modeling: Describe the models you will compare (e.g., logistic regression, Boosting trees, etc.).\n",
        "For text mining: Describe the techniques and tools you will use for text processing and analysis (e.g., TF-IDF, etc.).\n",
        "For forecasting: Describe the time series models you will explore (e.g., ARIMA)."
      ],
      "metadata": {
        "id": "q3_IbplycrIS"
      }
    },
    {
      "cell_type": "markdown",
      "source": [
        "##Preliminary Analysis\n",
        "\n",
        "Present exploratory data analysis (EDA) to understand the dataset's structure, relationships, and key features.\n",
        "Include visualizations and summary statistics that support your preliminary findings.\n"
      ],
      "metadata": {
        "id": "gCQSZQtWcrFS"
      }
    },
    {
      "cell_type": "markdown",
      "source": [
        "##Initial Results\n",
        "\n",
        "Conduct initial tests of your models or analysis techniques.\n",
        "Provide a summary of the results, including any initial performance metrics or insights gained.\n",
        "Discuss any challenges encountered and how you addressed them."
      ],
      "metadata": {
        "id": "E-VRBuVacrCG"
      }
    },
    {
      "cell_type": "markdown",
      "source": [
        "##Next Steps\n",
        "\n",
        "Outline the steps you plan to take to refine your approach and improve your results.\n",
        "Highlight any additional data you might need, further analyses, or alternative methodologies you are considering."
      ],
      "metadata": {
        "id": "W60f49y5cq_K"
      }
    }
  ]
}