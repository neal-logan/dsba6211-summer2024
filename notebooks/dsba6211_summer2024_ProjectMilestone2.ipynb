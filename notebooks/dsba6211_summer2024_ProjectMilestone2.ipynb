{
  "nbformat": 4,
  "nbformat_minor": 0,
  "metadata": {
    "colab": {
      "provenance": [],
      "include_colab_link": true
    },
    "kernelspec": {
      "name": "python3",
      "display_name": "Python 3"
    },
    "language_info": {
      "name": "python"
    }
  },
  "cells": [
    {
      "cell_type": "markdown",
      "metadata": {
        "id": "view-in-github",
        "colab_type": "text"
      },
      "source": [
        "<a href=\"https://colab.research.google.com/github/neal-logan/dsba6211-summer2024/blob/main/notebooks/dsba6211_summer2024_ProjectMilestone2.ipynb\" target=\"_parent\"><img src=\"https://colab.research.google.com/assets/colab-badge.svg\" alt=\"Open In Colab\"/></a>"
      ]
    },
    {
      "cell_type": "markdown",
      "source": [
        "#Project Milestone 2\n",
        "\n",
        "DSBA 6211 - Summer 2024\n",
        "\n",
        "Neal Logan"
      ],
      "metadata": {
        "id": "uISl5Ss3cLsG"
      }
    },
    {
      "cell_type": "markdown",
      "source": [
        "# Introduction\n",
        "\n",
        "### Instructions\n",
        "\n",
        "Introduction and Project Outline:\n",
        "\n",
        "State your project objective and the chosen dataset.\n",
        "Describe the specific problem you aim to solve or the question you intend to answer.\n",
        "Consider and discuss the business application of your project. How could the results of your analysis or model be used in a business context? What potential impact could it have?\n",
        "\n",
        "### Problem, Application, and Impact\n",
        "\n",
        "I intend to produce a set of models which predict whether a particular URL is intended to be used for phishing or not.  \n",
        "\n",
        "Depending on context, this could be used to provide suspected-phishing warnings to users, to block users from visiting these sites, to identify targets for takedown requests, or to otherwise direct the efforts of law enforcement or security or trust & safety teams.  \n",
        "\n",
        "In general, the impact would be to mitigate security threats from phishing; the mechanisms would vary with use case.\n",
        "\n",
        "### Dataset\n",
        "\n",
        "I will use a dataset provided by HuggingFace user pirocheto and hosted on HuggingFace:\n",
        "\n",
        "https://huggingface.co/datasets/pirocheto/phishing-url\n"
      ],
      "metadata": {
        "id": "OQTrqXFdcj6e"
      }
    },
    {
      "cell_type": "markdown",
      "source": [
        "# Literature Review\n",
        "\n",
        "Find at least two online resources such as blog posts or tutorials that provide a code-implemented project related to your topic. Summarize the key points and explain how they are relevant to your work. Note that the resources should generally not be academic articles unless they include code.[link text](https://)\n",
        "\n",
        "I asked ChatGPT to find me relevant projects which included code.  I included the best of these below:\n",
        "\n",
        "\n",
        "### Phishing URL Detection by Pirocheto\n",
        "https://github.com/pirocheto/phishing-url-detection\n",
        "\n",
        "This repository contains a complete project for phishing URL detection using machine learning and MLOps practices. It uses a TF-IDF vectorizer using both character and word n-grams) with a linear SVM model. The code is designed to be lightweight and fast, suitable for embedding in applications, and can work offline, without an internet connection. The repository also includes instructions for reproducing the model and running the pipeline.\n",
        "\n",
        "This project is relevant both for the subject matter and because of its relation to the dataset I'm using.\n",
        "\n",
        "### PhishShield by Praneeth Katuri\n",
        "https://github.com/praneeth-katuri/PhishShield\n",
        "\n",
        "This GitHub repository provides a comprehensive solution for detecting phishing websites using analytical models and custom transformers for preprocessing. It includes feature-based and text-based models, including random forest, LGBM, SVC, logistic regression, and Multinomial Naive Bayes, and takes advantage of grid-search with cross-validation. The repository also offers Flask deployment for real-time URL prediction and caching for performance improvement.\n",
        "\n",
        "This project is relevant because it explores and compares a variety of techniques for detecting malicious URLs.\n",
        "\n",
        "### Phishing Link Detection by Sayan Maity\n",
        "https://github.com/Sayan-Maity-Code/Phishing-link-detection\n",
        "\n",
        "This project uses Multinomial Naive Bayes and Logistic Regression to detect malicious URLs. The model's preprocessing involves tokenization and TF-IDF vectorization. The project includes scripts for training and evaluating the model.\n",
        "\n",
        "This project is relevant mainly in that it provides an additoinal perspective on the topic.\n",
        "\n"
      ],
      "metadata": {
        "id": "5q-9JgQ_crP2"
      }
    },
    {
      "cell_type": "markdown",
      "source": [
        "# Data Preparation\n",
        "\n",
        "Detail the steps taken to clean and preprocess your data.\n",
        "Include any transformations, feature engineering, or handling of missing values:\n",
        "\n",
        "The dataset as posted on HuggingFace is already cleaned and partly preprocessed. 87 featurese are already extracted, including 56 from URL syntax and structure, 24 from page content, and 7 from external services.  No cleaning should be necessary.\n",
        "\n",
        "I will perform some limited additional preprocessing in my model pipelines including scaling, bucketing, and dimensionality reduction, on a feature-by-feature basis.\n",
        "\n",
        "The scaling/bucketing steps for many features will consist only of the application of standard scaling and ordinal bucketing. However, features like domain_registration_length or web_traffic likely need to be log-scaled or percentile-bucketed. Other features, like page_rank, may not benefit from scaling or bucketing, and won't be transformed. Some features\n",
        "\n",
        "\n"
      ],
      "metadata": {
        "id": "fhZHQRWCcrK6"
      }
    },
    {
      "cell_type": "markdown",
      "source": [
        "# Methodology\n",
        "\n",
        "Outline the methods and models you plan to use.\n",
        "This should include:\n",
        "For predictive modeling: Describe the models you will compare (e.g., logistic regression, Boosting trees, etc.).\n",
        "For text mining: Describe the techniques and tools you will use for text processing and analysis (e.g., TF-IDF, etc.).\n",
        "For forecasting: Describe the time series models you will explore (e.g., ARIMA).\n",
        "\n",
        "### Overall Structure\n",
        "\n",
        "SKlearn Pipelines, containing at least:\n",
        "\n",
        "*   Preprocessing as described in the Data Preparation section, including scaling and bucketing (as appropriate, on a feature-by-feature basis) and dimensionality reduction.\n",
        "*   Grid search for cross validation and hyperparameter tuning, including a few different approaches to regularization.\n",
        "*   Various models, including at least random forest and logistic regression.\n",
        "\n",
        "A comparison of model performance using each of the different pipelines\n",
        "\n",
        "Some kind of safe, versatile deployment process\n",
        "\n",
        "### Preprocessing\n",
        "\n",
        "Scaling\n",
        "\n",
        "Bucketing\n",
        "\n",
        "Dimensionality reduction?\n",
        "\n",
        "Polynomial interactions?\n",
        "\n",
        "### Grid Search - cross-validation and hyperparameter tuning\n",
        "\n",
        "Cross-validation\n",
        "\n",
        "Regularization\n",
        "\n",
        "\n",
        "### Models\n",
        "\n",
        "Random Forest\n",
        "\n",
        "Logistic Regression\n",
        "\n",
        "XGBoost?\n",
        "\n"
      ],
      "metadata": {
        "id": "q3_IbplycrIS"
      }
    },
    {
      "cell_type": "markdown",
      "source": [
        "# Preliminary Analysis\n",
        "\n",
        "Present exploratory data analysis (EDA) to understand the dataset's structure, relationships, and key features.\n",
        "Include visualizations and summary statistics that support your preliminary findings.\n"
      ],
      "metadata": {
        "id": "gCQSZQtWcrFS"
      }
    },
    {
      "cell_type": "code",
      "source": [],
      "metadata": {
        "id": "GWlFMKJJzjX4"
      },
      "execution_count": null,
      "outputs": []
    },
    {
      "cell_type": "code",
      "source": [
        "#Import dataset"
      ],
      "metadata": {
        "id": "29wgIa99zhAk"
      },
      "execution_count": null,
      "outputs": []
    },
    {
      "cell_type": "code",
      "source": [
        "#Calculate summary stats"
      ],
      "metadata": {
        "id": "M4I48S08zeZE"
      },
      "execution_count": null,
      "outputs": []
    },
    {
      "cell_type": "code",
      "source": [
        "#Head - 11 columns at a time?"
      ],
      "metadata": {
        "id": "jUqYQbI0zqYR"
      },
      "execution_count": null,
      "outputs": []
    },
    {
      "cell_type": "code",
      "source": [
        "#Dimensionality reduction -> clustering?"
      ],
      "metadata": {
        "id": "I2BElx3Nzi_f"
      },
      "execution_count": null,
      "outputs": []
    },
    {
      "cell_type": "markdown",
      "source": [
        "# Initial Results\n",
        "\n",
        "Conduct initial tests of your models or analysis techniques.\n",
        "Provide a summary of the results, including any initial performance metrics or insights gained.\n",
        "Discuss any challenges encountered and how you addressed them."
      ],
      "metadata": {
        "id": "E-VRBuVacrCG"
      }
    },
    {
      "cell_type": "markdown",
      "source": [
        "### Random Forest"
      ],
      "metadata": {
        "id": "zu-4h3Tq0DQX"
      }
    },
    {
      "cell_type": "code",
      "source": [
        "#Set up & run pipeline - random forest\n"
      ],
      "metadata": {
        "id": "iHxAnk7Mz4bj"
      },
      "execution_count": null,
      "outputs": []
    },
    {
      "cell_type": "markdown",
      "source": [
        "### Logistic Regression"
      ],
      "metadata": {
        "id": "SjHl-SGj0FRL"
      }
    },
    {
      "cell_type": "code",
      "source": [
        "#Set up pipeline"
      ],
      "metadata": {
        "id": "FjGdP_Mwz678"
      },
      "execution_count": null,
      "outputs": []
    },
    {
      "cell_type": "markdown",
      "source": [
        "### Gradient-boosted Trees"
      ],
      "metadata": {
        "id": "6d78V5Dd0IhV"
      }
    },
    {
      "cell_type": "code",
      "source": [],
      "metadata": {
        "id": "Iwhz1NFi0JOs"
      },
      "execution_count": null,
      "outputs": []
    },
    {
      "cell_type": "markdown",
      "source": [
        "# Next Steps\n",
        "\n",
        "Outline the steps you plan to take to refine your approach and improve your results.\n",
        "Highlight any additional data you might need, further analyses, or alternative methodologies you are considering."
      ],
      "metadata": {
        "id": "W60f49y5cq_K"
      }
    },
    {
      "cell_type": "markdown",
      "source": [
        "#Appendices"
      ],
      "metadata": {
        "id": "wRG0Z9D5Q7Vy"
      }
    },
    {
      "cell_type": "markdown",
      "source": [
        "### Data Exploration"
      ],
      "metadata": {
        "id": "7mvDnNfkQ-c7"
      }
    },
    {
      "cell_type": "code",
      "source": [],
      "metadata": {
        "id": "fYOYkDLBQ997"
      },
      "execution_count": null,
      "outputs": []
    },
    {
      "cell_type": "code",
      "source": [],
      "metadata": {
        "id": "Ge3zvgVkQ7An"
      },
      "execution_count": null,
      "outputs": []
    }
  ]
}