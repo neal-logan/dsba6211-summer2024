{
  "nbformat": 4,
  "nbformat_minor": 0,
  "metadata": {
    "colab": {
      "provenance": [],
      "include_colab_link": true
    },
    "kernelspec": {
      "name": "python3",
      "display_name": "Python 3"
    },
    "language_info": {
      "name": "python"
    }
  },
  "cells": [
    {
      "cell_type": "markdown",
      "metadata": {
        "id": "view-in-github",
        "colab_type": "text"
      },
      "source": [
        "<a href=\"https://colab.research.google.com/github/neal-logan/dsba6211-summer2024/blob/main/nophishing/01_exploratory_analysis.ipynb\" target=\"_parent\"><img src=\"https://colab.research.google.com/assets/colab-badge.svg\" alt=\"Open In Colab\"/></a>"
      ]
    },
    {
      "cell_type": "markdown",
      "source": [
        "# 01 Exploratory Analysis\n"
      ],
      "metadata": {
        "id": "RET7C16wNHx6"
      }
    },
    {
      "cell_type": "markdown",
      "source": [
        "### Setup"
      ],
      "metadata": {
        "id": "CUVYV2jdLoy9"
      }
    },
    {
      "cell_type": "markdown",
      "source": [
        "#### Required Packages"
      ],
      "metadata": {
        "id": "c7SzEAhKz6C4"
      }
    },
    {
      "cell_type": "code",
      "source": [
        "# Developed with Python version 3.10.12 in Colab version 1.0.0\n",
        "\n",
        "#https://github.com/SelfExplainML/PiML-Toolbox\n",
        "!pip install PiML==0.6.0\n",
        "#https://github.com/facebookresearch/hiplot\n",
        "!pip install hiplot==0.1.33\n",
        "\n",
        "\n"
      ],
      "metadata": {
        "id": "80KczabzVNle"
      },
      "execution_count": null,
      "outputs": []
    },
    {
      "cell_type": "markdown",
      "source": [
        "#### Random Seed"
      ],
      "metadata": {
        "id": "JzAAYv0dElgx"
      }
    },
    {
      "cell_type": "code",
      "source": [
        "random_seed = 42"
      ],
      "metadata": {
        "id": "ZKOK1l8gEnfJ"
      },
      "execution_count": 37,
      "outputs": []
    },
    {
      "cell_type": "markdown",
      "source": [
        "#### Load and Prepare Data"
      ],
      "metadata": {
        "id": "hsdvzxeCXAR-"
      }
    },
    {
      "cell_type": "code",
      "source": [
        "# Load and prepare training data\n",
        "import pandas as pd\n",
        "\n",
        "train_url = 'https://raw.githubusercontent.com/neal-logan/dsba6211-summer2024/main/nophishing/data/phishing-url-pirochet-train.csv'\n",
        "df = pd.read_csv(train_url)\n",
        "\n",
        "#Create numeric target variable column\n",
        "df['y'] = df['status'].replace('legitimate', 0).replace('phishing', 1)\n",
        "\n",
        "#Drop unnecessary columns\n",
        "df = df.drop(columns=['status','url'])\n",
        "\n",
        "#X/y split\n",
        "X = df.drop(columns=['y'])\n",
        "y = df['y']"
      ],
      "metadata": {
        "id": "jOS-vzfHNouy"
      },
      "execution_count": 32,
      "outputs": []
    },
    {
      "cell_type": "code",
      "source": [
        "#Split training set into training and validation set (test set not yet loaded)\n",
        "\n",
        "from sklearn.model_selection import train_test_split\n",
        "X_train, X_validation, y_train, y_validation = train_test_split(\n",
        "    X,\n",
        "    y,\n",
        "    test_size = 0.2,\n",
        "    random_state = random_seed)\n",
        "\n"
      ],
      "metadata": {
        "id": "MOc4Zid9VnmV"
      },
      "execution_count": 9,
      "outputs": []
    },
    {
      "cell_type": "markdown",
      "source": [
        "### Overview of the Data\n",
        "\n",
        "Most of the columns are a mix of binary, small discrete numbers, or ratios in decimal format.  Some columns have significantly larger values.  Some columns contain negative values that are apparently invalid.\n",
        "\n",
        "While the column names follow some degree of convention, there's no simple way to delineate how each of them should be handled.  I will need to analyze each feature individually and organize a preprocessing pipeline that takes into account what each feature needs.\n",
        "\n",
        "Some of the fields are obtained from third-party providers.  Because these might not always be available, I will develop a set of models that use this data as well as a second set of models that do not."
      ],
      "metadata": {
        "id": "D77WZoKCNQgR"
      }
    },
    {
      "cell_type": "markdown",
      "source": [
        "#### Categorize Features by Source"
      ],
      "metadata": {
        "id": "JpiuKe2wUXnh"
      }
    },
    {
      "cell_type": "code",
      "source": [
        "# Split features into categories based on origin: from URL, from site content,\n",
        "# or from third parties\n",
        "\n",
        "url_columns = ['length_url', 'length_hostname', 'ip', 'nb_dots',\n",
        "  'nb_hyphens', 'nb_at', 'nb_qm', 'nb_and', 'nb_or', 'nb_eq',\n",
        "  'nb_underscore', 'nb_tilde', 'nb_percent', 'nb_slash', 'nb_star',\n",
        "  'nb_colon', 'nb_comma', 'nb_semicolumn', 'nb_dollar', 'nb_space',\n",
        "  'nb_www', 'nb_com', 'nb_dslash', 'http_in_path', 'https_token',\n",
        "  'ratio_digits_url', 'ratio_digits_host', 'punycode', 'port',\n",
        "  'tld_in_path', 'tld_in_subdomain', 'abnormal_subdomain',\n",
        "  'nb_subdomains', 'prefix_suffix', 'random_domain', 'shortening_service',\n",
        "  'path_extension', 'nb_redirection', 'nb_external_redirection',\n",
        "  'length_words_raw', 'char_repeat', 'shortest_words_raw',\n",
        "  'shortest_word_host', 'shortest_word_path', 'longest_words_raw',\n",
        "  'longest_word_host', 'longest_word_path', 'avg_words_raw',\n",
        "  'avg_word_host', 'avg_word_path', 'phish_hints', 'domain_in_brand',\n",
        "  'brand_in_subdomain', 'brand_in_path', 'suspecious_tld',\n",
        "  'statistical_report' ]\n",
        "\n",
        "site_content_columns = ['nb_hyperlinks', 'ratio_intHyperlinks',\n",
        "  'ratio_extHyperlinks', 'ratio_nullHyperlinks', 'nb_extCSS',\n",
        "  'ratio_intRedirection', 'ratio_extRedirection', 'ratio_intErrors',\n",
        "  'ratio_extErrors', 'login_form', 'external_favicon', 'links_in_tags',\n",
        "  'submit_email', 'ratio_intMedia', 'ratio_extMedia', 'sfh', 'iframe',\n",
        "  'popup_window', 'safe_anchor', 'onmouseover', 'right_clic',\n",
        "  'empty_title', 'domain_in_title', 'domain_with_copyright']\n",
        "\n",
        "third_party_columns = ['whois_registered_domain', 'domain_registration_length', 'domain_age',\n",
        "       'web_traffic', 'dns_record', 'google_index', 'page_rank']\n",
        "\n",
        "\n",
        "X_url_train = X_train[url_columns]\n",
        "X_site_content_train = X_train[site_content_columns]\n",
        "X_third_party_train = X_train[third_party_columns]"
      ],
      "metadata": {
        "id": "7SIDsnEuUdti"
      },
      "execution_count": 33,
      "outputs": []
    },
    {
      "cell_type": "code",
      "source": [
        "# Recombine X,y training data sets for exploration\n",
        "Xy_train = X_train.copy()\n",
        "Xy_train['y'] = y_train\n",
        "\n",
        "Xy_url_train = X_url_train.copy()\n",
        "Xy_url_train['y'] = y_train\n",
        "\n",
        "Xy_site_content_train = X_site_content_train.copy()\n",
        "Xy_site_content_train['y'] = y_train\n",
        "\n",
        "Xy_third_party_train = X_third_party_train.copy()\n",
        "Xy_third_party_train['y'] = y_train"
      ],
      "metadata": {
        "id": "BCeHuPfJUjZo"
      },
      "execution_count": 50,
      "outputs": []
    },
    {
      "cell_type": "markdown",
      "source": [
        "#### Feature-Target Correlation\n",
        "\n",
        "Third-party features google_index and page_rank dominate the correlations.  However, url features nb_www and ratio_digits_url also look promising, and they're closely followed by site content variables domain_in_title and nb_hyperlinks.\n"
      ],
      "metadata": {
        "id": "grh_DRcvFoeJ"
      }
    },
    {
      "cell_type": "code",
      "source": [
        "# Calculate correlation matrix\n",
        "corr_matrix = Xy_train.corr().abs()\n",
        "\n",
        "# Get top 25 features correlated with the target variable\n",
        "top_correlated_columns = corr_matrix['y'].sort_values(ascending=False).head(25)\n",
        "print(top_correlated_columns)"
      ],
      "metadata": {
        "id": "pquoX8SGazEh",
        "outputId": "f2ad0d9e-dd1f-4437-ad03-641d4cf309a9",
        "colab": {
          "base_uri": "https://localhost:8080/"
        }
      },
      "execution_count": 47,
      "outputs": [
        {
          "output_type": "stream",
          "name": "stdout",
          "text": [
            "y                      1.000000\n",
            "google_index           0.738908\n",
            "page_rank              0.503734\n",
            "nb_www                 0.434337\n",
            "ratio_digits_url       0.357516\n",
            "domain_in_title        0.338552\n",
            "nb_hyperlinks          0.334818\n",
            "phish_hints            0.326646\n",
            "domain_age             0.325361\n",
            "ip                     0.316615\n",
            "nb_qm                  0.301241\n",
            "ratio_intHyperlinks    0.255428\n",
            "nb_slash               0.246719\n",
            "length_hostname        0.243607\n",
            "length_url             0.231634\n",
            "ratio_digits_host      0.227973\n",
            "nb_eq                  0.226459\n",
            "empty_title            0.221384\n",
            "tld_in_subdomain       0.215112\n",
            "shortest_word_host     0.210331\n",
            "prefix_suffix          0.209651\n",
            "longest_word_path      0.207685\n",
            "avg_word_path          0.206130\n",
            "nb_dots                0.203182\n",
            "ratio_intMedia         0.202347\n",
            "Name: y, dtype: float64\n"
          ]
        }
      ]
    },
    {
      "cell_type": "code",
      "source": [
        "# Calculate correlation matrix\n",
        "corr_matrix_url = Xy_url_train.corr().abs()\n",
        "\n",
        "# Get top 10 url features correlated with the target variable\n",
        "top_correlated_url_columns = corr_matrix_url['y'].sort_values(ascending=False).head(10)\n",
        "print(top_correlated_url_columns)"
      ],
      "metadata": {
        "id": "rPEyXDR3HW0Z",
        "outputId": "08b3dc46-9031-442d-d200-99ecbae918bc",
        "colab": {
          "base_uri": "https://localhost:8080/"
        }
      },
      "execution_count": 52,
      "outputs": [
        {
          "output_type": "stream",
          "name": "stdout",
          "text": [
            "y                    1.000000\n",
            "nb_www               0.434337\n",
            "ratio_digits_url     0.357516\n",
            "phish_hints          0.326646\n",
            "ip                   0.316615\n",
            "nb_qm                0.301241\n",
            "nb_slash             0.246719\n",
            "length_hostname      0.243607\n",
            "length_url           0.231634\n",
            "ratio_digits_host    0.227973\n",
            "Name: y, dtype: float64\n"
          ]
        }
      ]
    },
    {
      "cell_type": "code",
      "source": [
        "corr_matrix_site_content = Xy_site_content_train.corr().abs()\n",
        "\n",
        "# Get top 10 url features correlated with the target variable\n",
        "top_correlated_site_content_columns = corr_matrix_site_content['y'].sort_values(ascending=False).head(10)\n",
        "print(top_correlated_site_content_columns)"
      ],
      "metadata": {
        "id": "HymERhFeHWs-",
        "outputId": "8850ee91-a6bb-4245-833d-2b9993233fc0",
        "colab": {
          "base_uri": "https://localhost:8080/"
        }
      },
      "execution_count": 54,
      "outputs": [
        {
          "output_type": "stream",
          "name": "stdout",
          "text": [
            "y                        1.000000\n",
            "domain_in_title          0.338552\n",
            "nb_hyperlinks            0.334818\n",
            "ratio_intHyperlinks      0.255428\n",
            "empty_title              0.221384\n",
            "ratio_intMedia           0.202347\n",
            "links_in_tags            0.191689\n",
            "safe_anchor              0.190779\n",
            "domain_with_copyright    0.180982\n",
            "ratio_extRedirection     0.163749\n",
            "Name: y, dtype: float64\n"
          ]
        }
      ]
    },
    {
      "cell_type": "code",
      "source": [
        "corr_matrix_third_party = Xy_third_party_train.corr().abs()\n",
        "\n",
        "# Get top 10 url features correlated with the target variable\n",
        "top_correlated_third_party_columns = corr_matrix_third_party['y'].sort_values(ascending=False).head(10)\n",
        "print(top_correlated_third_party_columns)"
      ],
      "metadata": {
        "id": "LL45aeHhHWkp",
        "outputId": "3f3fa9a1-ab71-4542-aa58-67e6a6475cf4",
        "colab": {
          "base_uri": "https://localhost:8080/"
        }
      },
      "execution_count": 55,
      "outputs": [
        {
          "output_type": "stream",
          "name": "stdout",
          "text": [
            "y                             1.000000\n",
            "google_index                  0.738908\n",
            "page_rank                     0.503734\n",
            "domain_age                    0.325361\n",
            "domain_registration_length    0.170025\n",
            "dns_record                    0.111166\n",
            "whois_registered_domain       0.074040\n",
            "web_traffic                   0.064179\n",
            "Name: y, dtype: float64\n"
          ]
        }
      ]
    },
    {
      "cell_type": "markdown",
      "source": [
        "#### Boxplots - TODO - fix or eliminate\n",
        "\n",
        "A quick (if bulky) look at the distributions the features.  There appear to be some invalid values, mostly -1s in features where these values don't make sense."
      ],
      "metadata": {
        "id": "hk7v6S5KFl_N"
      }
    },
    {
      "cell_type": "code",
      "source": [
        "#Boxplots\n",
        "import pandas as pd\n",
        "import matplotlib.pyplot as plt\n",
        "\n",
        "# Define the number of columns per plot\n",
        "columns_per_plot = 12\n",
        "\n",
        "# Split the numeric columns into chunks\n",
        "chunks = [Xy_train[i:i + columns_per_plot] for i in range(0, len(Xy_train), columns_per_plot)]\n",
        "\n",
        "# Create boxplots for each chunk\n",
        "for i, chunk in enumerate(chunks):\n",
        "    plt.figure()\n",
        "    Xy_train[chunk].boxplot()\n",
        "    plt.title(f'Boxplots for Columns {i * columns_per_plot + 1} to {(i + 1) * columns_per_plot}')\n",
        "    plt.xticks(rotation=90)  # Rotate x-axis labels for better readability\n",
        "    plt.show()\n"
      ],
      "metadata": {
        "id": "DkWlpJiNUB5M",
        "outputId": "59e9500e-a7b6-4f50-e7bc-794bd175b655",
        "colab": {
          "base_uri": "https://localhost:8080/",
          "height": 373
        }
      },
      "execution_count": 56,
      "outputs": [
        {
          "output_type": "error",
          "ename": "ValueError",
          "evalue": "Boolean array expected for the condition, not object",
          "traceback": [
            "\u001b[0;31m---------------------------------------------------------------------------\u001b[0m",
            "\u001b[0;31mValueError\u001b[0m                                Traceback (most recent call last)",
            "\u001b[0;32m<ipython-input-56-ad99fa290110>\u001b[0m in \u001b[0;36m<cell line: 12>\u001b[0;34m()\u001b[0m\n\u001b[1;32m     12\u001b[0m \u001b[0;32mfor\u001b[0m \u001b[0mi\u001b[0m\u001b[0;34m,\u001b[0m \u001b[0mchunk\u001b[0m \u001b[0;32min\u001b[0m \u001b[0menumerate\u001b[0m\u001b[0;34m(\u001b[0m\u001b[0mchunks\u001b[0m\u001b[0;34m)\u001b[0m\u001b[0;34m:\u001b[0m\u001b[0;34m\u001b[0m\u001b[0;34m\u001b[0m\u001b[0m\n\u001b[1;32m     13\u001b[0m     \u001b[0mplt\u001b[0m\u001b[0;34m.\u001b[0m\u001b[0mfigure\u001b[0m\u001b[0;34m(\u001b[0m\u001b[0;34m)\u001b[0m\u001b[0;34m\u001b[0m\u001b[0;34m\u001b[0m\u001b[0m\n\u001b[0;32m---> 14\u001b[0;31m     \u001b[0mXy_train\u001b[0m\u001b[0;34m[\u001b[0m\u001b[0mchunk\u001b[0m\u001b[0;34m]\u001b[0m\u001b[0;34m.\u001b[0m\u001b[0mboxplot\u001b[0m\u001b[0;34m(\u001b[0m\u001b[0;34m)\u001b[0m\u001b[0;34m\u001b[0m\u001b[0;34m\u001b[0m\u001b[0m\n\u001b[0m\u001b[1;32m     15\u001b[0m     \u001b[0mplt\u001b[0m\u001b[0;34m.\u001b[0m\u001b[0mtitle\u001b[0m\u001b[0;34m(\u001b[0m\u001b[0;34mf'Boxplots for Columns {i * columns_per_plot + 1} to {(i + 1) * columns_per_plot}'\u001b[0m\u001b[0;34m)\u001b[0m\u001b[0;34m\u001b[0m\u001b[0;34m\u001b[0m\u001b[0m\n\u001b[1;32m     16\u001b[0m     \u001b[0mplt\u001b[0m\u001b[0;34m.\u001b[0m\u001b[0mxticks\u001b[0m\u001b[0;34m(\u001b[0m\u001b[0mrotation\u001b[0m\u001b[0;34m=\u001b[0m\u001b[0;36m90\u001b[0m\u001b[0;34m)\u001b[0m  \u001b[0;31m# Rotate x-axis labels for better readability\u001b[0m\u001b[0;34m\u001b[0m\u001b[0;34m\u001b[0m\u001b[0m\n",
            "\u001b[0;32m/usr/local/lib/python3.10/dist-packages/pandas/core/frame.py\u001b[0m in \u001b[0;36m__getitem__\u001b[0;34m(self, key)\u001b[0m\n\u001b[1;32m   3792\u001b[0m         \u001b[0;31m# Do we have a (boolean) DataFrame?\u001b[0m\u001b[0;34m\u001b[0m\u001b[0;34m\u001b[0m\u001b[0m\n\u001b[1;32m   3793\u001b[0m         \u001b[0;32mif\u001b[0m \u001b[0misinstance\u001b[0m\u001b[0;34m(\u001b[0m\u001b[0mkey\u001b[0m\u001b[0;34m,\u001b[0m \u001b[0mDataFrame\u001b[0m\u001b[0;34m)\u001b[0m\u001b[0;34m:\u001b[0m\u001b[0;34m\u001b[0m\u001b[0;34m\u001b[0m\u001b[0m\n\u001b[0;32m-> 3794\u001b[0;31m             \u001b[0;32mreturn\u001b[0m \u001b[0mself\u001b[0m\u001b[0;34m.\u001b[0m\u001b[0mwhere\u001b[0m\u001b[0;34m(\u001b[0m\u001b[0mkey\u001b[0m\u001b[0;34m)\u001b[0m\u001b[0;34m\u001b[0m\u001b[0;34m\u001b[0m\u001b[0m\n\u001b[0m\u001b[1;32m   3795\u001b[0m \u001b[0;34m\u001b[0m\u001b[0m\n\u001b[1;32m   3796\u001b[0m         \u001b[0;31m# Do we have a (boolean) 1d indexer?\u001b[0m\u001b[0;34m\u001b[0m\u001b[0;34m\u001b[0m\u001b[0m\n",
            "\u001b[0;32m/usr/local/lib/python3.10/dist-packages/pandas/util/_decorators.py\u001b[0m in \u001b[0;36mwrapper\u001b[0;34m(*args, **kwargs)\u001b[0m\n\u001b[1;32m    209\u001b[0m                 \u001b[0;32melse\u001b[0m\u001b[0;34m:\u001b[0m\u001b[0;34m\u001b[0m\u001b[0;34m\u001b[0m\u001b[0m\n\u001b[1;32m    210\u001b[0m                     \u001b[0mkwargs\u001b[0m\u001b[0;34m[\u001b[0m\u001b[0mnew_arg_name\u001b[0m\u001b[0;34m]\u001b[0m \u001b[0;34m=\u001b[0m \u001b[0mnew_arg_value\u001b[0m\u001b[0;34m\u001b[0m\u001b[0;34m\u001b[0m\u001b[0m\n\u001b[0;32m--> 211\u001b[0;31m             \u001b[0;32mreturn\u001b[0m \u001b[0mfunc\u001b[0m\u001b[0;34m(\u001b[0m\u001b[0;34m*\u001b[0m\u001b[0margs\u001b[0m\u001b[0;34m,\u001b[0m \u001b[0;34m**\u001b[0m\u001b[0mkwargs\u001b[0m\u001b[0;34m)\u001b[0m\u001b[0;34m\u001b[0m\u001b[0;34m\u001b[0m\u001b[0m\n\u001b[0m\u001b[1;32m    212\u001b[0m \u001b[0;34m\u001b[0m\u001b[0m\n\u001b[1;32m    213\u001b[0m         \u001b[0;32mreturn\u001b[0m \u001b[0mcast\u001b[0m\u001b[0;34m(\u001b[0m\u001b[0mF\u001b[0m\u001b[0;34m,\u001b[0m \u001b[0mwrapper\u001b[0m\u001b[0;34m)\u001b[0m\u001b[0;34m\u001b[0m\u001b[0;34m\u001b[0m\u001b[0m\n",
            "\u001b[0;32m/usr/local/lib/python3.10/dist-packages/pandas/util/_decorators.py\u001b[0m in \u001b[0;36mwrapper\u001b[0;34m(*args, **kwargs)\u001b[0m\n\u001b[1;32m    329\u001b[0m                     \u001b[0mstacklevel\u001b[0m\u001b[0;34m=\u001b[0m\u001b[0mfind_stack_level\u001b[0m\u001b[0;34m(\u001b[0m\u001b[0;34m)\u001b[0m\u001b[0;34m,\u001b[0m\u001b[0;34m\u001b[0m\u001b[0;34m\u001b[0m\u001b[0m\n\u001b[1;32m    330\u001b[0m                 )\n\u001b[0;32m--> 331\u001b[0;31m             \u001b[0;32mreturn\u001b[0m \u001b[0mfunc\u001b[0m\u001b[0;34m(\u001b[0m\u001b[0;34m*\u001b[0m\u001b[0margs\u001b[0m\u001b[0;34m,\u001b[0m \u001b[0;34m**\u001b[0m\u001b[0mkwargs\u001b[0m\u001b[0;34m)\u001b[0m\u001b[0;34m\u001b[0m\u001b[0;34m\u001b[0m\u001b[0m\n\u001b[0m\u001b[1;32m    332\u001b[0m \u001b[0;34m\u001b[0m\u001b[0m\n\u001b[1;32m    333\u001b[0m         \u001b[0;31m# error: \"Callable[[VarArg(Any), KwArg(Any)], Any]\" has no\u001b[0m\u001b[0;34m\u001b[0m\u001b[0;34m\u001b[0m\u001b[0m\n",
            "\u001b[0;32m/usr/local/lib/python3.10/dist-packages/pandas/core/frame.py\u001b[0m in \u001b[0;36mwhere\u001b[0;34m(self, cond, other, inplace, axis, level, errors, try_cast)\u001b[0m\n\u001b[1;32m  11921\u001b[0m         \u001b[0mtry_cast\u001b[0m\u001b[0;34m:\u001b[0m \u001b[0mbool\u001b[0m \u001b[0;34m|\u001b[0m \u001b[0mlib\u001b[0m\u001b[0;34m.\u001b[0m\u001b[0mNoDefault\u001b[0m \u001b[0;34m=\u001b[0m \u001b[0mlib\u001b[0m\u001b[0;34m.\u001b[0m\u001b[0mno_default\u001b[0m\u001b[0;34m,\u001b[0m\u001b[0;34m\u001b[0m\u001b[0;34m\u001b[0m\u001b[0m\n\u001b[1;32m  11922\u001b[0m     ) -> DataFrame | None:\n\u001b[0;32m> 11923\u001b[0;31m         return super().where(\n\u001b[0m\u001b[1;32m  11924\u001b[0m             \u001b[0mcond\u001b[0m\u001b[0;34m,\u001b[0m\u001b[0;34m\u001b[0m\u001b[0;34m\u001b[0m\u001b[0m\n\u001b[1;32m  11925\u001b[0m             \u001b[0mother\u001b[0m\u001b[0;34m,\u001b[0m\u001b[0;34m\u001b[0m\u001b[0;34m\u001b[0m\u001b[0m\n",
            "\u001b[0;32m/usr/local/lib/python3.10/dist-packages/pandas/util/_decorators.py\u001b[0m in \u001b[0;36mwrapper\u001b[0;34m(*args, **kwargs)\u001b[0m\n\u001b[1;32m    209\u001b[0m                 \u001b[0;32melse\u001b[0m\u001b[0;34m:\u001b[0m\u001b[0;34m\u001b[0m\u001b[0;34m\u001b[0m\u001b[0m\n\u001b[1;32m    210\u001b[0m                     \u001b[0mkwargs\u001b[0m\u001b[0;34m[\u001b[0m\u001b[0mnew_arg_name\u001b[0m\u001b[0;34m]\u001b[0m \u001b[0;34m=\u001b[0m \u001b[0mnew_arg_value\u001b[0m\u001b[0;34m\u001b[0m\u001b[0;34m\u001b[0m\u001b[0m\n\u001b[0;32m--> 211\u001b[0;31m             \u001b[0;32mreturn\u001b[0m \u001b[0mfunc\u001b[0m\u001b[0;34m(\u001b[0m\u001b[0;34m*\u001b[0m\u001b[0margs\u001b[0m\u001b[0;34m,\u001b[0m \u001b[0;34m**\u001b[0m\u001b[0mkwargs\u001b[0m\u001b[0;34m)\u001b[0m\u001b[0;34m\u001b[0m\u001b[0;34m\u001b[0m\u001b[0m\n\u001b[0m\u001b[1;32m    212\u001b[0m \u001b[0;34m\u001b[0m\u001b[0m\n\u001b[1;32m    213\u001b[0m         \u001b[0;32mreturn\u001b[0m \u001b[0mcast\u001b[0m\u001b[0;34m(\u001b[0m\u001b[0mF\u001b[0m\u001b[0;34m,\u001b[0m \u001b[0mwrapper\u001b[0m\u001b[0;34m)\u001b[0m\u001b[0;34m\u001b[0m\u001b[0;34m\u001b[0m\u001b[0m\n",
            "\u001b[0;32m/usr/local/lib/python3.10/dist-packages/pandas/util/_decorators.py\u001b[0m in \u001b[0;36mwrapper\u001b[0;34m(*args, **kwargs)\u001b[0m\n\u001b[1;32m    329\u001b[0m                     \u001b[0mstacklevel\u001b[0m\u001b[0;34m=\u001b[0m\u001b[0mfind_stack_level\u001b[0m\u001b[0;34m(\u001b[0m\u001b[0;34m)\u001b[0m\u001b[0;34m,\u001b[0m\u001b[0;34m\u001b[0m\u001b[0;34m\u001b[0m\u001b[0m\n\u001b[1;32m    330\u001b[0m                 )\n\u001b[0;32m--> 331\u001b[0;31m             \u001b[0;32mreturn\u001b[0m \u001b[0mfunc\u001b[0m\u001b[0;34m(\u001b[0m\u001b[0;34m*\u001b[0m\u001b[0margs\u001b[0m\u001b[0;34m,\u001b[0m \u001b[0;34m**\u001b[0m\u001b[0mkwargs\u001b[0m\u001b[0;34m)\u001b[0m\u001b[0;34m\u001b[0m\u001b[0;34m\u001b[0m\u001b[0m\n\u001b[0m\u001b[1;32m    332\u001b[0m \u001b[0;34m\u001b[0m\u001b[0m\n\u001b[1;32m    333\u001b[0m         \u001b[0;31m# error: \"Callable[[VarArg(Any), KwArg(Any)], Any]\" has no\u001b[0m\u001b[0;34m\u001b[0m\u001b[0;34m\u001b[0m\u001b[0m\n",
            "\u001b[0;32m/usr/local/lib/python3.10/dist-packages/pandas/core/generic.py\u001b[0m in \u001b[0;36mwhere\u001b[0;34m(self, cond, other, inplace, axis, level, errors, try_cast)\u001b[0m\n\u001b[1;32m   9966\u001b[0m             )\n\u001b[1;32m   9967\u001b[0m \u001b[0;34m\u001b[0m\u001b[0m\n\u001b[0;32m-> 9968\u001b[0;31m         \u001b[0;32mreturn\u001b[0m \u001b[0mself\u001b[0m\u001b[0;34m.\u001b[0m\u001b[0m_where\u001b[0m\u001b[0;34m(\u001b[0m\u001b[0mcond\u001b[0m\u001b[0;34m,\u001b[0m \u001b[0mother\u001b[0m\u001b[0;34m,\u001b[0m \u001b[0minplace\u001b[0m\u001b[0;34m,\u001b[0m \u001b[0maxis\u001b[0m\u001b[0;34m,\u001b[0m \u001b[0mlevel\u001b[0m\u001b[0;34m)\u001b[0m\u001b[0;34m\u001b[0m\u001b[0;34m\u001b[0m\u001b[0m\n\u001b[0m\u001b[1;32m   9969\u001b[0m \u001b[0;34m\u001b[0m\u001b[0m\n\u001b[1;32m   9970\u001b[0m     \u001b[0;34m@\u001b[0m\u001b[0moverload\u001b[0m\u001b[0;34m\u001b[0m\u001b[0;34m\u001b[0m\u001b[0m\n",
            "\u001b[0;32m/usr/local/lib/python3.10/dist-packages/pandas/core/generic.py\u001b[0m in \u001b[0;36m_where\u001b[0;34m(self, cond, other, inplace, axis, level)\u001b[0m\n\u001b[1;32m   9655\u001b[0m                 \u001b[0;32mfor\u001b[0m \u001b[0mdt\u001b[0m \u001b[0;32min\u001b[0m \u001b[0mcond\u001b[0m\u001b[0;34m.\u001b[0m\u001b[0mdtypes\u001b[0m\u001b[0;34m:\u001b[0m\u001b[0;34m\u001b[0m\u001b[0;34m\u001b[0m\u001b[0m\n\u001b[1;32m   9656\u001b[0m                     \u001b[0;32mif\u001b[0m \u001b[0;32mnot\u001b[0m \u001b[0mis_bool_dtype\u001b[0m\u001b[0;34m(\u001b[0m\u001b[0mdt\u001b[0m\u001b[0;34m)\u001b[0m\u001b[0;34m:\u001b[0m\u001b[0;34m\u001b[0m\u001b[0;34m\u001b[0m\u001b[0m\n\u001b[0;32m-> 9657\u001b[0;31m                         \u001b[0;32mraise\u001b[0m \u001b[0mValueError\u001b[0m\u001b[0;34m(\u001b[0m\u001b[0mmsg\u001b[0m\u001b[0;34m.\u001b[0m\u001b[0mformat\u001b[0m\u001b[0;34m(\u001b[0m\u001b[0mdtype\u001b[0m\u001b[0;34m=\u001b[0m\u001b[0mdt\u001b[0m\u001b[0;34m)\u001b[0m\u001b[0;34m)\u001b[0m\u001b[0;34m\u001b[0m\u001b[0;34m\u001b[0m\u001b[0m\n\u001b[0m\u001b[1;32m   9658\u001b[0m         \u001b[0;32melse\u001b[0m\u001b[0;34m:\u001b[0m\u001b[0;34m\u001b[0m\u001b[0;34m\u001b[0m\u001b[0m\n\u001b[1;32m   9659\u001b[0m             \u001b[0;31m# GH#21947 we have an empty DataFrame/Series, could be object-dtype\u001b[0m\u001b[0;34m\u001b[0m\u001b[0;34m\u001b[0m\u001b[0m\n",
            "\u001b[0;31mValueError\u001b[0m: Boolean array expected for the condition, not object"
          ]
        },
        {
          "output_type": "display_data",
          "data": {
            "text/plain": [
              "<Figure size 640x480 with 0 Axes>"
            ]
          },
          "metadata": {}
        }
      ]
    },
    {
      "cell_type": "markdown",
      "source": [
        "#### Parallel coordinate plots - correlated feature groups - TODO: Fix/build out"
      ],
      "metadata": {
        "id": "pEASoVxF1HzQ"
      }
    },
    {
      "cell_type": "code",
      "source": [
        "#Create empty dataframes\n",
        "dfs_eda = []\n",
        "for i in range(0,5):\n",
        "  dfs_eda.append(pd.DataFrame)\n",
        "\n",
        "low_corr_threshold = 0.25\n",
        "high_corr_threshold = 0.45\n",
        "\n",
        "#\n",
        "for col in corr_matrix.columns:\n",
        "\n",
        "  #Get the next most-correlated column other than col itself\n",
        "  most_correlated = corr_matrix[col].sort_values(ascending=False).index[1]\n",
        "  correlation = corr_matrix.loc[col, most_correlated]\n",
        "\n",
        "  for df in dfs_eda:\n",
        "    if correlation > low_corr_threshold:\n",
        "      if :\n",
        "        df[col] = Xy_train[col]\n",
        "        df[most_correlated] = Xy_train[most_correlated]\n",
        "\n",
        "\n",
        "\n",
        "\n"
      ],
      "metadata": {
        "id": "f-mxEeLymUc2"
      },
      "execution_count": null,
      "outputs": []
    },
    {
      "cell_type": "code",
      "source": [
        "import hiplot as hip\n",
        "\n",
        "# add y to df1\n",
        "df['y'] = y_train\n",
        "\n",
        "# convert df1 to list of dicts because hiplot requires\n",
        "df1_list = df1.to_dict('records')\n",
        "hip.Experiment.from_iterable(df1_list).display()"
      ],
      "metadata": {
        "id": "xgHCZGmcVPyy"
      },
      "execution_count": null,
      "outputs": []
    },
    {
      "cell_type": "code",
      "source": [
        "\n",
        "\n"
      ],
      "metadata": {
        "id": "H35CPg9_pbBY"
      },
      "execution_count": null,
      "outputs": []
    },
    {
      "cell_type": "markdown",
      "source": [
        "#### Preliminary Modeling - Feature Importance"
      ],
      "metadata": {
        "id": "IdxQc9wfHXXk"
      }
    },
    {
      "cell_type": "code",
      "source": [
        "from sklearn.metrics import accuracy_score\n",
        "from sklearn.metrics import roc_auc_score\n",
        "from sklearn.metrics import precision_score\n",
        "from sklearn.metrics import recall_score\n",
        "from sklearn.metrics import f1_score\n",
        "from sklearn.metrics import confusion_matrix\n",
        "from sklearn.pipeline import Pipeline\n",
        "import pandas as pd\n",
        "\n",
        "# Define model evaluation function\n",
        "\n",
        "def print_model_evaluation(\n",
        "    title: str,\n",
        "    pipe : Pipeline,\n",
        "    X : pd.DataFrame,\n",
        "    y : pd.DataFrame):\n",
        "\n",
        "    print(\"\\n\" + title)\n",
        "    pred_y = pipe.predict(X)\n",
        "    print(confusion_matrix(pred_y, y))\n",
        "    print(\"\\nROC-AUC: \" + str(roc_auc_score(pred_y, y)))\n",
        "    print(\"Precision: \" + str(precision_score(pred_y, y)))\n",
        "    print(\"Recall: \" + str(recall_score(pred_y, y)))"
      ],
      "metadata": {
        "id": "UeRh1QGqHV6c"
      },
      "execution_count": null,
      "outputs": []
    },
    {
      "cell_type": "markdown",
      "source": [
        "##### Logistic Regression"
      ],
      "metadata": {
        "id": "cs8IoTZHHce0"
      }
    },
    {
      "cell_type": "code",
      "source": [
        "#Set up pipeline\n",
        "\n",
        "import numpy as np\n",
        "from sklearn.preprocessing import StandardScaler\n",
        "from sklearn.linear_model import LogisticRegression\n",
        "from sklearn.pipeline import make_pipeline\n",
        "\n",
        "pipe_lr = make_pipeline(\n",
        "      StandardScaler(),\n",
        "      LogisticRegression(random_state=42)\n",
        ")\n",
        "\n",
        "pipe_lr.fit(X_train, y_train)\n"
      ],
      "metadata": {
        "id": "n-vSb9zqHbyc"
      },
      "execution_count": null,
      "outputs": []
    },
    {
      "cell_type": "code",
      "source": [
        "print_model_evaluation(\"Logistic Regression\\nPerformance on Training Set\",\n",
        "                       pipe_lr, X_train, y_train)\n",
        "\n",
        "print_model_evaluation(\"Logistic Regression\\nPerformance on Validation Set\",\n",
        "                       pipe_lr, X_validation, y_validation)"
      ],
      "metadata": {
        "id": "Or1lEMszW3u9"
      },
      "execution_count": null,
      "outputs": []
    },
    {
      "cell_type": "markdown",
      "source": [
        "##### Random Forest"
      ],
      "metadata": {
        "id": "2rPGTjm8W44U"
      }
    },
    {
      "cell_type": "code",
      "source": [
        "#Set up & run pipeline - random forest\n",
        "\n",
        "from sklearn.preprocessing import StandardScaler\n",
        "from sklearn.ensemble import RandomForestClassifier\n",
        "from sklearn.pipeline import make_pipeline\n",
        "\n",
        "pipe_rf = make_pipeline(\n",
        "      StandardScaler(),\n",
        "      RandomForestClassifier(random_state=42)\n",
        ")\n",
        "\n",
        "pipe_rf.fit(X_train, y_train)\n"
      ],
      "metadata": {
        "id": "nDtdj6L7W4PZ"
      },
      "execution_count": null,
      "outputs": []
    },
    {
      "cell_type": "code",
      "source": [
        "print_model_evaluation(\"Random Forest\\nPerformance on Training Set\",\n",
        "                       pipe_rf, X_train, y_train)\n",
        "\n",
        "print_model_evaluation(\"Random Forest\\nPerformance on Validation Set\",\n",
        "                       pipe_rf, X_validation, y_validation)\n"
      ],
      "metadata": {
        "id": "5vr4PsqKW5zA"
      },
      "execution_count": null,
      "outputs": []
    },
    {
      "cell_type": "markdown",
      "source": [
        "##### Gradient-boosted Trees"
      ],
      "metadata": {
        "id": "w-bFzlbyW4Ad"
      }
    },
    {
      "cell_type": "code",
      "source": [
        "# Set up and run pipeline - gradient boosted trees\n",
        "\n",
        "from sklearn.preprocessing import StandardScaler\n",
        "from sklearn.ensemble import HistGradientBoostingClassifier\n",
        "from sklearn.pipeline import make_pipeline\n",
        "\n",
        "pipe_gbt = make_pipeline(\n",
        "      StandardScaler(),\n",
        "      HistGradientBoostingClassifier(random_state=42)\n",
        ")\n",
        "\n",
        "pipe_gbt.fit(X_train, y_train)"
      ],
      "metadata": {
        "id": "TSMt4Oa8W6pk"
      },
      "execution_count": null,
      "outputs": []
    },
    {
      "cell_type": "code",
      "source": [
        "print_model_evaluation(\"Gradient-boosted Trees\\nPerformance on Training Set\",\n",
        "                       pipe_gbt, X_train, y_train)\n",
        "\n",
        "print_model_evaluation(\"Gradient-boosted Trees\\nPerformance on Validation Set\",\n",
        "                       pipe_gbt, X_validation, y_validation)"
      ],
      "metadata": {
        "id": "rn-huRZLW6c4"
      },
      "execution_count": null,
      "outputs": []
    },
    {
      "cell_type": "markdown",
      "source": [
        "#### Small Multiples -\n",
        "heatmaps for something?"
      ],
      "metadata": {
        "id": "ekeXb6Mivs1D"
      }
    },
    {
      "cell_type": "markdown",
      "source": [
        "### Feature Engineering and Selection"
      ],
      "metadata": {
        "id": "KC5iBGfQNT9F"
      }
    },
    {
      "cell_type": "markdown",
      "source": [
        "### Preprocessing Development"
      ],
      "metadata": {
        "id": "XmBosQUuNhij"
      }
    }
  ]
}