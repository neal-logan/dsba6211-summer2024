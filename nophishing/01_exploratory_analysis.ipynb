{
  "nbformat": 4,
  "nbformat_minor": 0,
  "metadata": {
    "colab": {
      "provenance": [],
      "include_colab_link": true
    },
    "kernelspec": {
      "name": "python3",
      "display_name": "Python 3"
    },
    "language_info": {
      "name": "python"
    }
  },
  "cells": [
    {
      "cell_type": "markdown",
      "metadata": {
        "id": "view-in-github",
        "colab_type": "text"
      },
      "source": [
        "<a href=\"https://colab.research.google.com/github/neal-logan/dsba6211-summer2024/blob/main/nophishing/01_exploratory_analysis.ipynb\" target=\"_parent\"><img src=\"https://colab.research.google.com/assets/colab-badge.svg\" alt=\"Open In Colab\"/></a>"
      ]
    },
    {
      "cell_type": "markdown",
      "source": [
        "# 01 Exploratory Analysis\n"
      ],
      "metadata": {
        "id": "RET7C16wNHx6"
      }
    },
    {
      "cell_type": "markdown",
      "source": [
        "#### Load and Prepare Data"
      ],
      "metadata": {
        "id": "hsdvzxeCXAR-"
      }
    },
    {
      "cell_type": "code",
      "source": [
        "# Load and prepare training data\n",
        "import pandas as pd\n",
        "\n",
        "train_url = 'https://raw.githubusercontent.com/neal-logan/dsba6211-summer2024/main/nophishing/data/phishing-url-pirochet-train.csv'\n",
        "df = pd.read_csv(train_url)\n",
        "\n",
        "#Create numeric target variable column\n",
        "df['y'] = df['status'].replace('legitimate', 0).replace('phishing', 1)\n",
        "\n",
        "#Drop unnecessary columns\n",
        "df = df.drop(columns=['status','url'])\n",
        "\n",
        "#X/y split\n",
        "X = df.drop(columns=['y'])\n",
        "y = df['y']"
      ],
      "metadata": {
        "colab": {
          "base_uri": "https://localhost:8080/",
          "height": 290
        },
        "id": "jOS-vzfHNouy",
        "outputId": "06432db5-bf9d-4303-82ed-0978f02de84d"
      },
      "execution_count": null,
      "outputs": [
        {
          "output_type": "execute_result",
          "data": {
            "text/plain": [
              "   Unnamed: 0                                                url  length_url  \\\n",
              "0           0  https://www.todayshomeowner.com/how-to-make-ho...          82   \n",
              "1           1  http://thapthan.ac.th/information/confirmation...          93   \n",
              "2           2  http://app.dialoginsight.com/T/OFC4/L2S/3888/B...         121   \n",
              "3           3                           https://www.bedslide.com          24   \n",
              "4           4  https://tabs.ultimate-guitar.com/s/sex_pistols...          73   \n",
              "\n",
              "   length_hostname  ip  nb_dots  nb_hyphens  nb_at  nb_qm  nb_and  ...  \\\n",
              "0               23   0        2           7      0      0       0  ...   \n",
              "1               14   1        2           0      0      0       0  ...   \n",
              "2               21   1        3           0      0      0       0  ...   \n",
              "3               16   0        2           0      0      0       0  ...   \n",
              "4               24   0        3           1      0      0       0  ...   \n",
              "\n",
              "   domain_in_title  domain_with_copyright  whois_registered_domain  \\\n",
              "0                1                      1                        0   \n",
              "1                1                      0                        1   \n",
              "2                1                      1                        0   \n",
              "3                0                      0                        0   \n",
              "4                0                      0                        0   \n",
              "\n",
              "   domain_registration_length  domain_age  web_traffic  dns_record  \\\n",
              "0                         240        8892        67860           0   \n",
              "1                           0        2996      4189860           0   \n",
              "2                          30        2527       346022           0   \n",
              "3                         139        7531      1059151           0   \n",
              "4                        3002        7590          635           0   \n",
              "\n",
              "   google_index  page_rank      status  \n",
              "0             1          4  legitimate  \n",
              "1             1          2    phishing  \n",
              "2             1          3    phishing  \n",
              "3             0          4  legitimate  \n",
              "4             1          5  legitimate  \n",
              "\n",
              "[5 rows x 90 columns]"
            ],
            "text/html": [
              "\n",
              "  <div id=\"df-ba47d241-18b2-41f7-af1f-c18da0e46b2b\" class=\"colab-df-container\">\n",
              "    <div>\n",
              "<style scoped>\n",
              "    .dataframe tbody tr th:only-of-type {\n",
              "        vertical-align: middle;\n",
              "    }\n",
              "\n",
              "    .dataframe tbody tr th {\n",
              "        vertical-align: top;\n",
              "    }\n",
              "\n",
              "    .dataframe thead th {\n",
              "        text-align: right;\n",
              "    }\n",
              "</style>\n",
              "<table border=\"1\" class=\"dataframe\">\n",
              "  <thead>\n",
              "    <tr style=\"text-align: right;\">\n",
              "      <th></th>\n",
              "      <th>Unnamed: 0</th>\n",
              "      <th>url</th>\n",
              "      <th>length_url</th>\n",
              "      <th>length_hostname</th>\n",
              "      <th>ip</th>\n",
              "      <th>nb_dots</th>\n",
              "      <th>nb_hyphens</th>\n",
              "      <th>nb_at</th>\n",
              "      <th>nb_qm</th>\n",
              "      <th>nb_and</th>\n",
              "      <th>...</th>\n",
              "      <th>domain_in_title</th>\n",
              "      <th>domain_with_copyright</th>\n",
              "      <th>whois_registered_domain</th>\n",
              "      <th>domain_registration_length</th>\n",
              "      <th>domain_age</th>\n",
              "      <th>web_traffic</th>\n",
              "      <th>dns_record</th>\n",
              "      <th>google_index</th>\n",
              "      <th>page_rank</th>\n",
              "      <th>status</th>\n",
              "    </tr>\n",
              "  </thead>\n",
              "  <tbody>\n",
              "    <tr>\n",
              "      <th>0</th>\n",
              "      <td>0</td>\n",
              "      <td>https://www.todayshomeowner.com/how-to-make-ho...</td>\n",
              "      <td>82</td>\n",
              "      <td>23</td>\n",
              "      <td>0</td>\n",
              "      <td>2</td>\n",
              "      <td>7</td>\n",
              "      <td>0</td>\n",
              "      <td>0</td>\n",
              "      <td>0</td>\n",
              "      <td>...</td>\n",
              "      <td>1</td>\n",
              "      <td>1</td>\n",
              "      <td>0</td>\n",
              "      <td>240</td>\n",
              "      <td>8892</td>\n",
              "      <td>67860</td>\n",
              "      <td>0</td>\n",
              "      <td>1</td>\n",
              "      <td>4</td>\n",
              "      <td>legitimate</td>\n",
              "    </tr>\n",
              "    <tr>\n",
              "      <th>1</th>\n",
              "      <td>1</td>\n",
              "      <td>http://thapthan.ac.th/information/confirmation...</td>\n",
              "      <td>93</td>\n",
              "      <td>14</td>\n",
              "      <td>1</td>\n",
              "      <td>2</td>\n",
              "      <td>0</td>\n",
              "      <td>0</td>\n",
              "      <td>0</td>\n",
              "      <td>0</td>\n",
              "      <td>...</td>\n",
              "      <td>1</td>\n",
              "      <td>0</td>\n",
              "      <td>1</td>\n",
              "      <td>0</td>\n",
              "      <td>2996</td>\n",
              "      <td>4189860</td>\n",
              "      <td>0</td>\n",
              "      <td>1</td>\n",
              "      <td>2</td>\n",
              "      <td>phishing</td>\n",
              "    </tr>\n",
              "    <tr>\n",
              "      <th>2</th>\n",
              "      <td>2</td>\n",
              "      <td>http://app.dialoginsight.com/T/OFC4/L2S/3888/B...</td>\n",
              "      <td>121</td>\n",
              "      <td>21</td>\n",
              "      <td>1</td>\n",
              "      <td>3</td>\n",
              "      <td>0</td>\n",
              "      <td>0</td>\n",
              "      <td>0</td>\n",
              "      <td>0</td>\n",
              "      <td>...</td>\n",
              "      <td>1</td>\n",
              "      <td>1</td>\n",
              "      <td>0</td>\n",
              "      <td>30</td>\n",
              "      <td>2527</td>\n",
              "      <td>346022</td>\n",
              "      <td>0</td>\n",
              "      <td>1</td>\n",
              "      <td>3</td>\n",
              "      <td>phishing</td>\n",
              "    </tr>\n",
              "    <tr>\n",
              "      <th>3</th>\n",
              "      <td>3</td>\n",
              "      <td>https://www.bedslide.com</td>\n",
              "      <td>24</td>\n",
              "      <td>16</td>\n",
              "      <td>0</td>\n",
              "      <td>2</td>\n",
              "      <td>0</td>\n",
              "      <td>0</td>\n",
              "      <td>0</td>\n",
              "      <td>0</td>\n",
              "      <td>...</td>\n",
              "      <td>0</td>\n",
              "      <td>0</td>\n",
              "      <td>0</td>\n",
              "      <td>139</td>\n",
              "      <td>7531</td>\n",
              "      <td>1059151</td>\n",
              "      <td>0</td>\n",
              "      <td>0</td>\n",
              "      <td>4</td>\n",
              "      <td>legitimate</td>\n",
              "    </tr>\n",
              "    <tr>\n",
              "      <th>4</th>\n",
              "      <td>4</td>\n",
              "      <td>https://tabs.ultimate-guitar.com/s/sex_pistols...</td>\n",
              "      <td>73</td>\n",
              "      <td>24</td>\n",
              "      <td>0</td>\n",
              "      <td>3</td>\n",
              "      <td>1</td>\n",
              "      <td>0</td>\n",
              "      <td>0</td>\n",
              "      <td>0</td>\n",
              "      <td>...</td>\n",
              "      <td>0</td>\n",
              "      <td>0</td>\n",
              "      <td>0</td>\n",
              "      <td>3002</td>\n",
              "      <td>7590</td>\n",
              "      <td>635</td>\n",
              "      <td>0</td>\n",
              "      <td>1</td>\n",
              "      <td>5</td>\n",
              "      <td>legitimate</td>\n",
              "    </tr>\n",
              "  </tbody>\n",
              "</table>\n",
              "<p>5 rows × 90 columns</p>\n",
              "</div>\n",
              "    <div class=\"colab-df-buttons\">\n",
              "\n",
              "  <div class=\"colab-df-container\">\n",
              "    <button class=\"colab-df-convert\" onclick=\"convertToInteractive('df-ba47d241-18b2-41f7-af1f-c18da0e46b2b')\"\n",
              "            title=\"Convert this dataframe to an interactive table.\"\n",
              "            style=\"display:none;\">\n",
              "\n",
              "  <svg xmlns=\"http://www.w3.org/2000/svg\" height=\"24px\" viewBox=\"0 -960 960 960\">\n",
              "    <path d=\"M120-120v-720h720v720H120Zm60-500h600v-160H180v160Zm220 220h160v-160H400v160Zm0 220h160v-160H400v160ZM180-400h160v-160H180v160Zm440 0h160v-160H620v160ZM180-180h160v-160H180v160Zm440 0h160v-160H620v160Z\"/>\n",
              "  </svg>\n",
              "    </button>\n",
              "\n",
              "  <style>\n",
              "    .colab-df-container {\n",
              "      display:flex;\n",
              "      gap: 12px;\n",
              "    }\n",
              "\n",
              "    .colab-df-convert {\n",
              "      background-color: #E8F0FE;\n",
              "      border: none;\n",
              "      border-radius: 50%;\n",
              "      cursor: pointer;\n",
              "      display: none;\n",
              "      fill: #1967D2;\n",
              "      height: 32px;\n",
              "      padding: 0 0 0 0;\n",
              "      width: 32px;\n",
              "    }\n",
              "\n",
              "    .colab-df-convert:hover {\n",
              "      background-color: #E2EBFA;\n",
              "      box-shadow: 0px 1px 2px rgba(60, 64, 67, 0.3), 0px 1px 3px 1px rgba(60, 64, 67, 0.15);\n",
              "      fill: #174EA6;\n",
              "    }\n",
              "\n",
              "    .colab-df-buttons div {\n",
              "      margin-bottom: 4px;\n",
              "    }\n",
              "\n",
              "    [theme=dark] .colab-df-convert {\n",
              "      background-color: #3B4455;\n",
              "      fill: #D2E3FC;\n",
              "    }\n",
              "\n",
              "    [theme=dark] .colab-df-convert:hover {\n",
              "      background-color: #434B5C;\n",
              "      box-shadow: 0px 1px 3px 1px rgba(0, 0, 0, 0.15);\n",
              "      filter: drop-shadow(0px 1px 2px rgba(0, 0, 0, 0.3));\n",
              "      fill: #FFFFFF;\n",
              "    }\n",
              "  </style>\n",
              "\n",
              "    <script>\n",
              "      const buttonEl =\n",
              "        document.querySelector('#df-ba47d241-18b2-41f7-af1f-c18da0e46b2b button.colab-df-convert');\n",
              "      buttonEl.style.display =\n",
              "        google.colab.kernel.accessAllowed ? 'block' : 'none';\n",
              "\n",
              "      async function convertToInteractive(key) {\n",
              "        const element = document.querySelector('#df-ba47d241-18b2-41f7-af1f-c18da0e46b2b');\n",
              "        const dataTable =\n",
              "          await google.colab.kernel.invokeFunction('convertToInteractive',\n",
              "                                                    [key], {});\n",
              "        if (!dataTable) return;\n",
              "\n",
              "        const docLinkHtml = 'Like what you see? Visit the ' +\n",
              "          '<a target=\"_blank\" href=https://colab.research.google.com/notebooks/data_table.ipynb>data table notebook</a>'\n",
              "          + ' to learn more about interactive tables.';\n",
              "        element.innerHTML = '';\n",
              "        dataTable['output_type'] = 'display_data';\n",
              "        await google.colab.output.renderOutput(dataTable, element);\n",
              "        const docLink = document.createElement('div');\n",
              "        docLink.innerHTML = docLinkHtml;\n",
              "        element.appendChild(docLink);\n",
              "      }\n",
              "    </script>\n",
              "  </div>\n",
              "\n",
              "\n",
              "<div id=\"df-e1635aaf-7c9d-412c-bb25-0b5c0c35f8bc\">\n",
              "  <button class=\"colab-df-quickchart\" onclick=\"quickchart('df-e1635aaf-7c9d-412c-bb25-0b5c0c35f8bc')\"\n",
              "            title=\"Suggest charts\"\n",
              "            style=\"display:none;\">\n",
              "\n",
              "<svg xmlns=\"http://www.w3.org/2000/svg\" height=\"24px\"viewBox=\"0 0 24 24\"\n",
              "     width=\"24px\">\n",
              "    <g>\n",
              "        <path d=\"M19 3H5c-1.1 0-2 .9-2 2v14c0 1.1.9 2 2 2h14c1.1 0 2-.9 2-2V5c0-1.1-.9-2-2-2zM9 17H7v-7h2v7zm4 0h-2V7h2v10zm4 0h-2v-4h2v4z\"/>\n",
              "    </g>\n",
              "</svg>\n",
              "  </button>\n",
              "\n",
              "<style>\n",
              "  .colab-df-quickchart {\n",
              "      --bg-color: #E8F0FE;\n",
              "      --fill-color: #1967D2;\n",
              "      --hover-bg-color: #E2EBFA;\n",
              "      --hover-fill-color: #174EA6;\n",
              "      --disabled-fill-color: #AAA;\n",
              "      --disabled-bg-color: #DDD;\n",
              "  }\n",
              "\n",
              "  [theme=dark] .colab-df-quickchart {\n",
              "      --bg-color: #3B4455;\n",
              "      --fill-color: #D2E3FC;\n",
              "      --hover-bg-color: #434B5C;\n",
              "      --hover-fill-color: #FFFFFF;\n",
              "      --disabled-bg-color: #3B4455;\n",
              "      --disabled-fill-color: #666;\n",
              "  }\n",
              "\n",
              "  .colab-df-quickchart {\n",
              "    background-color: var(--bg-color);\n",
              "    border: none;\n",
              "    border-radius: 50%;\n",
              "    cursor: pointer;\n",
              "    display: none;\n",
              "    fill: var(--fill-color);\n",
              "    height: 32px;\n",
              "    padding: 0;\n",
              "    width: 32px;\n",
              "  }\n",
              "\n",
              "  .colab-df-quickchart:hover {\n",
              "    background-color: var(--hover-bg-color);\n",
              "    box-shadow: 0 1px 2px rgba(60, 64, 67, 0.3), 0 1px 3px 1px rgba(60, 64, 67, 0.15);\n",
              "    fill: var(--button-hover-fill-color);\n",
              "  }\n",
              "\n",
              "  .colab-df-quickchart-complete:disabled,\n",
              "  .colab-df-quickchart-complete:disabled:hover {\n",
              "    background-color: var(--disabled-bg-color);\n",
              "    fill: var(--disabled-fill-color);\n",
              "    box-shadow: none;\n",
              "  }\n",
              "\n",
              "  .colab-df-spinner {\n",
              "    border: 2px solid var(--fill-color);\n",
              "    border-color: transparent;\n",
              "    border-bottom-color: var(--fill-color);\n",
              "    animation:\n",
              "      spin 1s steps(1) infinite;\n",
              "  }\n",
              "\n",
              "  @keyframes spin {\n",
              "    0% {\n",
              "      border-color: transparent;\n",
              "      border-bottom-color: var(--fill-color);\n",
              "      border-left-color: var(--fill-color);\n",
              "    }\n",
              "    20% {\n",
              "      border-color: transparent;\n",
              "      border-left-color: var(--fill-color);\n",
              "      border-top-color: var(--fill-color);\n",
              "    }\n",
              "    30% {\n",
              "      border-color: transparent;\n",
              "      border-left-color: var(--fill-color);\n",
              "      border-top-color: var(--fill-color);\n",
              "      border-right-color: var(--fill-color);\n",
              "    }\n",
              "    40% {\n",
              "      border-color: transparent;\n",
              "      border-right-color: var(--fill-color);\n",
              "      border-top-color: var(--fill-color);\n",
              "    }\n",
              "    60% {\n",
              "      border-color: transparent;\n",
              "      border-right-color: var(--fill-color);\n",
              "    }\n",
              "    80% {\n",
              "      border-color: transparent;\n",
              "      border-right-color: var(--fill-color);\n",
              "      border-bottom-color: var(--fill-color);\n",
              "    }\n",
              "    90% {\n",
              "      border-color: transparent;\n",
              "      border-bottom-color: var(--fill-color);\n",
              "    }\n",
              "  }\n",
              "</style>\n",
              "\n",
              "  <script>\n",
              "    async function quickchart(key) {\n",
              "      const quickchartButtonEl =\n",
              "        document.querySelector('#' + key + ' button');\n",
              "      quickchartButtonEl.disabled = true;  // To prevent multiple clicks.\n",
              "      quickchartButtonEl.classList.add('colab-df-spinner');\n",
              "      try {\n",
              "        const charts = await google.colab.kernel.invokeFunction(\n",
              "            'suggestCharts', [key], {});\n",
              "      } catch (error) {\n",
              "        console.error('Error during call to suggestCharts:', error);\n",
              "      }\n",
              "      quickchartButtonEl.classList.remove('colab-df-spinner');\n",
              "      quickchartButtonEl.classList.add('colab-df-quickchart-complete');\n",
              "    }\n",
              "    (() => {\n",
              "      let quickchartButtonEl =\n",
              "        document.querySelector('#df-e1635aaf-7c9d-412c-bb25-0b5c0c35f8bc button');\n",
              "      quickchartButtonEl.style.display =\n",
              "        google.colab.kernel.accessAllowed ? 'block' : 'none';\n",
              "    })();\n",
              "  </script>\n",
              "</div>\n",
              "\n",
              "    </div>\n",
              "  </div>\n"
            ],
            "application/vnd.google.colaboratory.intrinsic+json": {
              "type": "dataframe",
              "variable_name": "df"
            }
          },
          "metadata": {},
          "execution_count": 8
        }
      ]
    },
    {
      "cell_type": "code",
      "source": [
        "#Split training set into training and validation set (test set not yet loaded)\n",
        "\n",
        "from sklearn.model_selection import train_test_split\n",
        "X_train, X_validation, y_train, y_validation = train_test_split(\n",
        "    X,\n",
        "    y,\n",
        "    test_size = 0.2,\n",
        "    random_state = 42)\n",
        "\n"
      ],
      "metadata": {
        "id": "MOc4Zid9VnmV"
      },
      "execution_count": null,
      "outputs": []
    },
    {
      "cell_type": "markdown",
      "source": [
        "#### Categorize Features by Source"
      ],
      "metadata": {
        "id": "JpiuKe2wUXnh"
      }
    },
    {
      "cell_type": "code",
      "source": [
        "#TODO - split features into categories based on origin: from URL, from site, or from third parties\n",
        "\n",
        "X_url_train = pd.DataFrame()\n",
        "X_site_train = pd.DataFrame()\n",
        "X_3p_train = pd.DataFrame()\n"
      ],
      "metadata": {
        "id": "7SIDsnEuUdti"
      },
      "execution_count": null,
      "outputs": []
    },
    {
      "cell_type": "code",
      "source": [
        "#Recombine X,y training data for exploration\n",
        "Xy_train = X_train.copy()\n",
        "Xy_train['y'] = y_train\n"
      ],
      "metadata": {
        "id": "BCeHuPfJUjZo"
      },
      "execution_count": null,
      "outputs": []
    },
    {
      "cell_type": "markdown",
      "source": [
        "#### Overview of the Data\n",
        "\n",
        "Most of the columns are a mix of binary, small discrete numbers, or ratios in decimal format.  Some columns have significantly larger values.  Some columns contain negative values that are apparently invalid.\n",
        "\n",
        "While the column names follow some degree of convention, there's no simple way to delineate how each of them should be handled.  I will need to analyze each feature individually and organize a preprocessing pipeline that takes into account what each feature needs.\n",
        "\n",
        "Some of the fields are obtained from third-party providers.  Because these might not always be available, I will develop a set of models that use this data as well as a second set of models that do not."
      ],
      "metadata": {
        "id": "D77WZoKCNQgR"
      }
    },
    {
      "cell_type": "code",
      "source": [
        "Xy_train.shape"
      ],
      "metadata": {
        "colab": {
          "base_uri": "https://localhost:8080/"
        },
        "id": "WE_qjFOud8pO",
        "outputId": "65b305b7-b90b-4867-9192-099b0013d078"
      },
      "execution_count": null,
      "outputs": [
        {
          "output_type": "execute_result",
          "data": {
            "text/plain": [
              "(6126, 89)"
            ]
          },
          "metadata": {},
          "execution_count": 36
        }
      ]
    },
    {
      "cell_type": "code",
      "source": [
        "#Calculate correlation matrix\n",
        "corr_matrix = Xy_train.corr().abs()"
      ],
      "metadata": {
        "id": "pquoX8SGazEh"
      },
      "execution_count": null,
      "outputs": []
    },
    {
      "cell_type": "code",
      "source": [
        "corr_matrix['y'].sort_values(ascending=False).head(25)"
      ],
      "metadata": {
        "colab": {
          "base_uri": "https://localhost:8080/",
          "height": 867
        },
        "id": "iz08Yi8gofqb",
        "outputId": "d7b02ffe-07f9-47aa-b6dc-83877a707038"
      },
      "execution_count": null,
      "outputs": [
        {
          "output_type": "execute_result",
          "data": {
            "text/plain": [
              "y                      1.000000\n",
              "google_index           0.738908\n",
              "page_rank              0.503734\n",
              "nb_www                 0.434337\n",
              "ratio_digits_url       0.357516\n",
              "domain_in_title        0.338552\n",
              "nb_hyperlinks          0.334818\n",
              "phish_hints            0.326646\n",
              "domain_age             0.325361\n",
              "ip                     0.316615\n",
              "nb_qm                  0.301241\n",
              "ratio_intHyperlinks    0.255428\n",
              "nb_slash               0.246719\n",
              "length_hostname        0.243607\n",
              "length_url             0.231634\n",
              "ratio_digits_host      0.227973\n",
              "nb_eq                  0.226459\n",
              "empty_title            0.221384\n",
              "tld_in_subdomain       0.215112\n",
              "shortest_word_host     0.210331\n",
              "prefix_suffix          0.209651\n",
              "longest_word_path      0.207685\n",
              "avg_word_path          0.206130\n",
              "nb_dots                0.203182\n",
              "ratio_intMedia         0.202347\n",
              "Name: y, dtype: float64"
            ],
            "text/html": [
              "<table border=\"1\" class=\"dataframe\">\n",
              "  <thead>\n",
              "    <tr style=\"text-align: right;\">\n",
              "      <th></th>\n",
              "      <th>y</th>\n",
              "    </tr>\n",
              "  </thead>\n",
              "  <tbody>\n",
              "    <tr>\n",
              "      <th>y</th>\n",
              "      <td>1.000000</td>\n",
              "    </tr>\n",
              "    <tr>\n",
              "      <th>google_index</th>\n",
              "      <td>0.738908</td>\n",
              "    </tr>\n",
              "    <tr>\n",
              "      <th>page_rank</th>\n",
              "      <td>0.503734</td>\n",
              "    </tr>\n",
              "    <tr>\n",
              "      <th>nb_www</th>\n",
              "      <td>0.434337</td>\n",
              "    </tr>\n",
              "    <tr>\n",
              "      <th>ratio_digits_url</th>\n",
              "      <td>0.357516</td>\n",
              "    </tr>\n",
              "    <tr>\n",
              "      <th>domain_in_title</th>\n",
              "      <td>0.338552</td>\n",
              "    </tr>\n",
              "    <tr>\n",
              "      <th>nb_hyperlinks</th>\n",
              "      <td>0.334818</td>\n",
              "    </tr>\n",
              "    <tr>\n",
              "      <th>phish_hints</th>\n",
              "      <td>0.326646</td>\n",
              "    </tr>\n",
              "    <tr>\n",
              "      <th>domain_age</th>\n",
              "      <td>0.325361</td>\n",
              "    </tr>\n",
              "    <tr>\n",
              "      <th>ip</th>\n",
              "      <td>0.316615</td>\n",
              "    </tr>\n",
              "    <tr>\n",
              "      <th>nb_qm</th>\n",
              "      <td>0.301241</td>\n",
              "    </tr>\n",
              "    <tr>\n",
              "      <th>ratio_intHyperlinks</th>\n",
              "      <td>0.255428</td>\n",
              "    </tr>\n",
              "    <tr>\n",
              "      <th>nb_slash</th>\n",
              "      <td>0.246719</td>\n",
              "    </tr>\n",
              "    <tr>\n",
              "      <th>length_hostname</th>\n",
              "      <td>0.243607</td>\n",
              "    </tr>\n",
              "    <tr>\n",
              "      <th>length_url</th>\n",
              "      <td>0.231634</td>\n",
              "    </tr>\n",
              "    <tr>\n",
              "      <th>ratio_digits_host</th>\n",
              "      <td>0.227973</td>\n",
              "    </tr>\n",
              "    <tr>\n",
              "      <th>nb_eq</th>\n",
              "      <td>0.226459</td>\n",
              "    </tr>\n",
              "    <tr>\n",
              "      <th>empty_title</th>\n",
              "      <td>0.221384</td>\n",
              "    </tr>\n",
              "    <tr>\n",
              "      <th>tld_in_subdomain</th>\n",
              "      <td>0.215112</td>\n",
              "    </tr>\n",
              "    <tr>\n",
              "      <th>shortest_word_host</th>\n",
              "      <td>0.210331</td>\n",
              "    </tr>\n",
              "    <tr>\n",
              "      <th>prefix_suffix</th>\n",
              "      <td>0.209651</td>\n",
              "    </tr>\n",
              "    <tr>\n",
              "      <th>longest_word_path</th>\n",
              "      <td>0.207685</td>\n",
              "    </tr>\n",
              "    <tr>\n",
              "      <th>avg_word_path</th>\n",
              "      <td>0.206130</td>\n",
              "    </tr>\n",
              "    <tr>\n",
              "      <th>nb_dots</th>\n",
              "      <td>0.203182</td>\n",
              "    </tr>\n",
              "    <tr>\n",
              "      <th>ratio_intMedia</th>\n",
              "      <td>0.202347</td>\n",
              "    </tr>\n",
              "  </tbody>\n",
              "</table><br><label><b>dtype:</b> float64</label>"
            ]
          },
          "metadata": {},
          "execution_count": 38
        }
      ]
    },
    {
      "cell_type": "code",
      "source": [
        "#Summary Stats\n",
        "import numpy as np\n",
        "\n",
        "includes = [np.number]\n",
        "\n",
        "for i in range (0,90,14):\n",
        "    print(df.iloc[:,i:i+14].describe(include=includes))"
      ],
      "metadata": {
        "id": "caEv2H7zT8I5"
      },
      "execution_count": null,
      "outputs": []
    },
    {
      "cell_type": "code",
      "source": [
        "#Boxplots\n",
        "import pandas as pd\n",
        "import matplotlib.pyplot as plt\n",
        "\n",
        "# Define the number of columns per plot\n",
        "columns_per_plot = 14\n",
        "\n",
        "# Split the numeric columns into chunks\n",
        "chunks = [Xy_train[i:i + columns_per_plot] for i in range(0, len(Xy_train), columns_per_plot)]\n",
        "\n",
        "# Create boxplots for each chunk\n",
        "for i, chunk in enumerate(chunks):\n",
        "    plt.figure()\n",
        "    df[chunk].boxplot()\n",
        "    plt.title(f'Boxplots for Columns {i * columns_per_plot + 1} to {(i + 1) * columns_per_plot}')\n",
        "    plt.xticks(rotation=90)  # Rotate x-axis labels for better readability\n",
        "    plt.show()\n"
      ],
      "metadata": {
        "id": "DkWlpJiNUB5M"
      },
      "execution_count": null,
      "outputs": []
    },
    {
      "cell_type": "markdown",
      "source": [
        "#### Group coorelated variables & look at parallel coordinate plots"
      ],
      "metadata": {
        "id": "pEASoVxF1HzQ"
      }
    },
    {
      "cell_type": "code",
      "source": [
        "# Group\n",
        "\n",
        "\n",
        "#Create empty dataframes\n",
        "\n",
        "dfs_eda = []\n",
        "for i in range(0,5):\n",
        "  dfs_eda.append(pd.DataFrame)\n",
        "\n",
        "low_corr_threshold = 0.25\n",
        "\n",
        "for col in corr_matrix.columns:\n",
        "\n",
        "  #Get the next most-correlated column other than col itself\n",
        "  most_correlated = corr_matrix[col].sort_values(ascending=False).index[1]\n",
        "  correlation = corr_matrix.loc[col, most_correlated]\n",
        "\n",
        "  for df in dfs_eda:\n",
        "    if correlation > low_corr_threshold:\n",
        "      if df.empty:\n",
        "        df[col] = Xy_train[col]\n"
      ],
      "metadata": {
        "id": "f-mxEeLymUc2"
      },
      "execution_count": null,
      "outputs": []
    },
    {
      "cell_type": "code",
      "source": [
        "%%capture\n",
        "!pip install hiplot==0.1.33\n"
      ],
      "metadata": {
        "id": "l5rBIfl5N1OF"
      },
      "execution_count": 1,
      "outputs": []
    },
    {
      "cell_type": "code",
      "source": [
        "import hiplot as hip\n",
        "\n",
        "# add y to df1\n",
        "df['y'] = y_train\n",
        "\n",
        "# convert df1 to list of dicts because hiplot requires\n",
        "df1_list = df1.to_dict('records')\n",
        "hip.Experiment.from_iterable(df1_list).display()"
      ],
      "metadata": {
        "id": "xgHCZGmcVPyy"
      },
      "execution_count": null,
      "outputs": []
    },
    {
      "cell_type": "markdown",
      "source": [
        "#### Small Multiples -\n",
        "heatmaps showing valid/bad ratio based on 2 variables at a time"
      ],
      "metadata": {
        "id": "ekeXb6Mivs1D"
      }
    },
    {
      "cell_type": "code",
      "source": [
        "\n",
        "\n"
      ],
      "metadata": {
        "id": "H35CPg9_pbBY"
      },
      "execution_count": null,
      "outputs": []
    },
    {
      "cell_type": "markdown",
      "source": [
        "#### Preliminary Modeling - Feature Importance"
      ],
      "metadata": {
        "id": "IdxQc9wfHXXk"
      }
    },
    {
      "cell_type": "code",
      "source": [
        "from sklearn.metrics import accuracy_score\n",
        "from sklearn.metrics import roc_auc_score\n",
        "from sklearn.metrics import precision_score\n",
        "from sklearn.metrics import recall_score\n",
        "from sklearn.metrics import f1_score\n",
        "from sklearn.metrics import confusion_matrix\n",
        "from sklearn.pipeline import Pipeline\n",
        "import pandas as pd\n",
        "\n",
        "# Define model evaluation function\n",
        "\n",
        "def print_model_evaluation(\n",
        "    title: str,\n",
        "    pipe : Pipeline,\n",
        "    X : pd.DataFrame,\n",
        "    y : pd.DataFrame):\n",
        "\n",
        "    print(\"\\n\" + title)\n",
        "    pred_y = pipe.predict(X)\n",
        "    print(confusion_matrix(pred_y, y))\n",
        "    print(\"\\nROC-AUC: \" + str(roc_auc_score(pred_y, y)))\n",
        "    print(\"Precision: \" + str(precision_score(pred_y, y)))\n",
        "    print(\"Recall: \" + str(recall_score(pred_y, y)))"
      ],
      "metadata": {
        "id": "UeRh1QGqHV6c"
      },
      "execution_count": null,
      "outputs": []
    },
    {
      "cell_type": "markdown",
      "source": [
        "####Logistic Regression"
      ],
      "metadata": {
        "id": "cs8IoTZHHce0"
      }
    },
    {
      "cell_type": "code",
      "source": [
        "#Set up pipeline\n",
        "\n",
        "import numpy as np\n",
        "from sklearn.preprocessing import StandardScaler\n",
        "from sklearn.linear_model import LogisticRegression\n",
        "from sklearn.pipeline import make_pipeline\n",
        "\n",
        "pipe_lr = make_pipeline(\n",
        "      StandardScaler(),\n",
        "      LogisticRegression(random_state=42)\n",
        ")\n",
        "\n",
        "pipe_lr.fit(X_train, y_train)\n"
      ],
      "metadata": {
        "id": "n-vSb9zqHbyc"
      },
      "execution_count": null,
      "outputs": []
    },
    {
      "cell_type": "code",
      "source": [
        "print_model_evaluation(\"Logistic Regression\\nPerformance on Training Set\",\n",
        "                       pipe_lr, X_train, y_train)\n",
        "\n",
        "print_model_evaluation(\"Logistic Regression\\nPerformance on Validation Set\",\n",
        "                       pipe_lr, X_validation, y_validation)"
      ],
      "metadata": {
        "id": "Or1lEMszW3u9"
      },
      "execution_count": null,
      "outputs": []
    },
    {
      "cell_type": "markdown",
      "source": [
        "#### Random Forest"
      ],
      "metadata": {
        "id": "2rPGTjm8W44U"
      }
    },
    {
      "cell_type": "code",
      "source": [
        "#Set up & run pipeline - random forest\n",
        "\n",
        "from sklearn.preprocessing import StandardScaler\n",
        "from sklearn.ensemble import RandomForestClassifier\n",
        "from sklearn.pipeline import make_pipeline\n",
        "\n",
        "pipe_rf = make_pipeline(\n",
        "      StandardScaler(),\n",
        "      RandomForestClassifier(random_state=42)\n",
        ")\n",
        "\n",
        "pipe_rf.fit(X_train, y_train)\n"
      ],
      "metadata": {
        "id": "nDtdj6L7W4PZ"
      },
      "execution_count": null,
      "outputs": []
    },
    {
      "cell_type": "code",
      "source": [
        "print_model_evaluation(\"Random Forest\\nPerformance on Training Set\",\n",
        "                       pipe_rf, X_train, y_train)\n",
        "\n",
        "print_model_evaluation(\"Random Forest\\nPerformance on Validation Set\",\n",
        "                       pipe_rf, X_validation, y_validation)\n"
      ],
      "metadata": {
        "id": "5vr4PsqKW5zA"
      },
      "execution_count": null,
      "outputs": []
    },
    {
      "cell_type": "markdown",
      "source": [
        "#### Gradient-boosted Trees"
      ],
      "metadata": {
        "id": "w-bFzlbyW4Ad"
      }
    },
    {
      "cell_type": "code",
      "source": [
        "# Set up and run pipeline - gradient boosted trees\n",
        "\n",
        "from sklearn.preprocessing import StandardScaler\n",
        "from sklearn.ensemble import HistGradientBoostingClassifier\n",
        "from sklearn.pipeline import make_pipeline\n",
        "\n",
        "pipe_gbt = make_pipeline(\n",
        "      StandardScaler(),\n",
        "      HistGradientBoostingClassifier(random_state=42)\n",
        ")\n",
        "\n",
        "pipe_gbt.fit(X_train, y_train)"
      ],
      "metadata": {
        "id": "TSMt4Oa8W6pk"
      },
      "execution_count": null,
      "outputs": []
    },
    {
      "cell_type": "code",
      "source": [
        "print_model_evaluation(\"Gradient-boosted Trees\\nPerformance on Training Set\",\n",
        "                       pipe_gbt, X_train, y_train)\n",
        "\n",
        "print_model_evaluation(\"Gradient-boosted Trees\\nPerformance on Validation Set\",\n",
        "                       pipe_gbt, X_validation, y_validation)"
      ],
      "metadata": {
        "id": "rn-huRZLW6c4"
      },
      "execution_count": null,
      "outputs": []
    },
    {
      "cell_type": "markdown",
      "source": [
        "### Feature Engineering and Selection"
      ],
      "metadata": {
        "id": "KC5iBGfQNT9F"
      }
    },
    {
      "cell_type": "markdown",
      "source": [
        "### Preprocessing"
      ],
      "metadata": {
        "id": "XmBosQUuNhij"
      }
    }
  ]
}